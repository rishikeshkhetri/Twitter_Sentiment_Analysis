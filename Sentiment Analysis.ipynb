{
 "cells": [
  {
   "cell_type": "code",
   "execution_count": 1,
   "metadata": {},
   "outputs": [],
   "source": [
    "import re   #regular expressions \n",
    "import nltk #for text manipulation\n",
    "import string \n",
    "import warnings\n",
    "import numpy as np \n",
    "import pandas as pd \n",
    "import seaborn as sns \n",
    "import matplotlib.pyplot as plt \n",
    "\n",
    "pd.set_option(\"display.max_colwidth\", 200) \n",
    "warnings.filterwarnings(\"ignore\", category=DeprecationWarning) \n",
    "\n",
    "%matplotlib inline"
   ]
  },
  {
   "cell_type": "code",
   "execution_count": 2,
   "metadata": {},
   "outputs": [],
   "source": [
    "train  = pd.read_csv('train_E6oV3lV.csv') \n",
    "test = pd.read_csv('test_tweets_anuFYb8.csv')"
   ]
  },
  {
   "cell_type": "code",
   "execution_count": 3,
   "metadata": {},
   "outputs": [
    {
     "data": {
      "text/html": [
       "<div>\n",
       "<style scoped>\n",
       "    .dataframe tbody tr th:only-of-type {\n",
       "        vertical-align: middle;\n",
       "    }\n",
       "\n",
       "    .dataframe tbody tr th {\n",
       "        vertical-align: top;\n",
       "    }\n",
       "\n",
       "    .dataframe thead th {\n",
       "        text-align: right;\n",
       "    }\n",
       "</style>\n",
       "<table border=\"1\" class=\"dataframe\">\n",
       "  <thead>\n",
       "    <tr style=\"text-align: right;\">\n",
       "      <th></th>\n",
       "      <th>id</th>\n",
       "      <th>label</th>\n",
       "      <th>tweet</th>\n",
       "    </tr>\n",
       "  </thead>\n",
       "  <tbody>\n",
       "    <tr>\n",
       "      <th>13</th>\n",
       "      <td>14</td>\n",
       "      <td>1</td>\n",
       "      <td>@user #cnn calls #michigan middle school 'build the wall' chant '' #tcot</td>\n",
       "    </tr>\n",
       "    <tr>\n",
       "      <th>14</th>\n",
       "      <td>15</td>\n",
       "      <td>1</td>\n",
       "      <td>no comment!  in #australia   #opkillingbay #seashepherd #helpcovedolphins #thecove  #helpcovedolphins</td>\n",
       "    </tr>\n",
       "    <tr>\n",
       "      <th>17</th>\n",
       "      <td>18</td>\n",
       "      <td>1</td>\n",
       "      <td>retweet if you agree!</td>\n",
       "    </tr>\n",
       "    <tr>\n",
       "      <th>23</th>\n",
       "      <td>24</td>\n",
       "      <td>1</td>\n",
       "      <td>@user @user lumpy says i am a . prove it lumpy.</td>\n",
       "    </tr>\n",
       "    <tr>\n",
       "      <th>34</th>\n",
       "      <td>35</td>\n",
       "      <td>1</td>\n",
       "      <td>it's unbelievable that in the 21st century we'd need something like this. again. #neverump  #xenophobia</td>\n",
       "    </tr>\n",
       "  </tbody>\n",
       "</table>\n",
       "</div>"
      ],
      "text/plain": [
       "    id  label  \\\n",
       "13  14      1   \n",
       "14  15      1   \n",
       "17  18      1   \n",
       "23  24      1   \n",
       "34  35      1   \n",
       "\n",
       "                                                                                                       tweet  \n",
       "13                                @user #cnn calls #michigan middle school 'build the wall' chant '' #tcot    \n",
       "14     no comment!  in #australia   #opkillingbay #seashepherd #helpcovedolphins #thecove  #helpcovedolphins  \n",
       "17                                                                                    retweet if you agree!   \n",
       "23                                                           @user @user lumpy says i am a . prove it lumpy.  \n",
       "34  it's unbelievable that in the 21st century we'd need something like this. again. #neverump  #xenophobia   "
      ]
     },
     "execution_count": 3,
     "metadata": {},
     "output_type": "execute_result"
    }
   ],
   "source": [
    "train[train['label']==1].head()"
   ]
  },
  {
   "cell_type": "code",
   "execution_count": 4,
   "metadata": {},
   "outputs": [
    {
     "data": {
      "text/plain": [
       "((31962, 3), (17197, 2))"
      ]
     },
     "execution_count": 4,
     "metadata": {},
     "output_type": "execute_result"
    }
   ],
   "source": [
    "train.shape , test.shape"
   ]
  },
  {
   "cell_type": "code",
   "execution_count": 5,
   "metadata": {},
   "outputs": [
    {
     "data": {
      "text/plain": [
       "0    29720\n",
       "1     2242\n",
       "Name: label, dtype: int64"
      ]
     },
     "execution_count": 5,
     "metadata": {},
     "output_type": "execute_result"
    }
   ],
   "source": [
    "train['label'].value_counts()"
   ]
  },
  {
   "cell_type": "code",
   "execution_count": 6,
   "metadata": {},
   "outputs": [
    {
     "data": {
      "image/png": "[encoded data removed]",
      "text/plain": [
       "<Figure size 432x288 with 1 Axes>"
      ]
     },
     "metadata": {
      "needs_background": "light"
     },
     "output_type": "display_data"
    }
   ],
   "source": [
    "len_train=train['tweet'].str.len()\n",
    "len_test=test['tweet'].str.len()\n",
    "plt.hist(len_train,bins=20,label='train_tweets')\n",
    "plt.hist(len_test,bins=20,label='test_tweets')\n",
    "plt.legend()\n",
    "plt.show()"
   ]
  },
  {
   "cell_type": "code",
   "execution_count": 7,
   "metadata": {},
   "outputs": [
    {
     "data": {
      "text/plain": [
       "(49159, 3)"
      ]
     },
     "execution_count": 7,
     "metadata": {},
     "output_type": "execute_result"
    }
   ],
   "source": [
    "combi=train.append(test,ignore_index=True,sort=True)\n",
    "combi.shape"
   ]
  },
  {
   "cell_type": "code",
   "execution_count": 8,
   "metadata": {},
   "outputs": [],
   "source": [
    "def remove_pattern(input_txt, pattern):\n",
    "    r = re.findall(pattern, input_txt)\n",
    "    for i in r:\n",
    "        input_txt = re.sub(i, '', input_txt)\n",
    "    return input_txt          "
   ]
  },
  {
   "cell_type": "code",
   "execution_count": 9,
   "metadata": {},
   "outputs": [
    {
     "data": {
      "text/html": [
       "<div>\n",
       "<style scoped>\n",
       "    .dataframe tbody tr th:only-of-type {\n",
       "        vertical-align: middle;\n",
       "    }\n",
       "\n",
       "    .dataframe tbody tr th {\n",
       "        vertical-align: top;\n",
       "    }\n",
       "\n",
       "    .dataframe thead th {\n",
       "        text-align: right;\n",
       "    }\n",
       "</style>\n",
       "<table border=\"1\" class=\"dataframe\">\n",
       "  <thead>\n",
       "    <tr style=\"text-align: right;\">\n",
       "      <th></th>\n",
       "      <th>id</th>\n",
       "      <th>label</th>\n",
       "      <th>tweet</th>\n",
       "      <th>tidy_tweet</th>\n",
       "    </tr>\n",
       "  </thead>\n",
       "  <tbody>\n",
       "    <tr>\n",
       "      <th>0</th>\n",
       "      <td>1</td>\n",
       "      <td>0.0</td>\n",
       "      <td>@user when a father is dysfunctional and is so selfish he drags his kids into his dysfunction.   #run</td>\n",
       "      <td>when a father is dysfunctional and is so selfish he drags his kids into his dysfunction.   #run</td>\n",
       "    </tr>\n",
       "    <tr>\n",
       "      <th>1</th>\n",
       "      <td>2</td>\n",
       "      <td>0.0</td>\n",
       "      <td>@user @user thanks for #lyft credit i can't use cause they don't offer wheelchair vans in pdx.    #disapointed #getthanked</td>\n",
       "      <td>thanks for #lyft credit i can't use cause they don't offer wheelchair vans in pdx.    #disapointed #getthanked</td>\n",
       "    </tr>\n",
       "    <tr>\n",
       "      <th>2</th>\n",
       "      <td>3</td>\n",
       "      <td>0.0</td>\n",
       "      <td>bihday your majesty</td>\n",
       "      <td>bihday your majesty</td>\n",
       "    </tr>\n",
       "    <tr>\n",
       "      <th>3</th>\n",
       "      <td>4</td>\n",
       "      <td>0.0</td>\n",
       "      <td>#model   i love u take with u all the time in urð±!!! ðððð",
       "ð¦ð¦ð¦</td>\n",
       "      <td>#model   i love u take with u all the time in urð±!!! ðððð",
       "ð¦ð¦ð¦</td>\n",
       "    </tr>\n",
       "    <tr>\n",
       "      <th>4</th>\n",
       "      <td>5</td>\n",
       "      <td>0.0</td>\n",
       "      <td>factsguide: society now    #motivation</td>\n",
       "      <td>factsguide: society now    #motivation</td>\n",
       "    </tr>\n",
       "  </tbody>\n",
       "</table>\n",
       "</div>"
      ],
      "text/plain": [
       "   id  label  \\\n",
       "0   1    0.0   \n",
       "1   2    0.0   \n",
       "2   3    0.0   \n",
       "3   4    0.0   \n",
       "4   5    0.0   \n",
       "\n",
       "                                                                                                                        tweet  \\\n",
       "0                       @user when a father is dysfunctional and is so selfish he drags his kids into his dysfunction.   #run   \n",
       "1  @user @user thanks for #lyft credit i can't use cause they don't offer wheelchair vans in pdx.    #disapointed #getthanked   \n",
       "2                                                                                                         bihday your majesty   \n",
       "3                                      #model   i love u take with u all the time in urð±!!! ðððð\n",
       "ð¦ð¦ð¦     \n",
       "4                                                                                      factsguide: society now    #motivation   \n",
       "\n",
       "                                                                                                         tidy_tweet  \n",
       "0                   when a father is dysfunctional and is so selfish he drags his kids into his dysfunction.   #run  \n",
       "1    thanks for #lyft credit i can't use cause they don't offer wheelchair vans in pdx.    #disapointed #getthanked  \n",
       "2                                                                                               bihday your majesty  \n",
       "3                            #model   i love u take with u all the time in urð±!!! ðððð\n",
       "ð¦ð¦ð¦    \n",
       "4                                                                            factsguide: society now    #motivation  "
      ]
     },
     "execution_count": 9,
     "metadata": {},
     "output_type": "execute_result"
    }
   ],
   "source": [
    "combi['tidy_tweet'] = np.vectorize(remove_pattern)(combi['tweet'], \"@[\\w]*\") \n",
    "combi.head()"
   ]
  },
  {
   "cell_type": "code",
   "execution_count": 10,
   "metadata": {},
   "outputs": [
    {
     "data": {
      "text/html": [
       "<div>\n",
       "<style scoped>\n",
       "    .dataframe tbody tr th:only-of-type {\n",
       "        vertical-align: middle;\n",
       "    }\n",
       "\n",
       "    .dataframe tbody tr th {\n",
       "        vertical-align: top;\n",
       "    }\n",
       "\n",
       "    .dataframe thead th {\n",
       "        text-align: right;\n",
       "    }\n",
       "</style>\n",
       "<table border=\"1\" class=\"dataframe\">\n",
       "  <thead>\n",
       "    <tr style=\"text-align: right;\">\n",
       "      <th></th>\n",
       "      <th>id</th>\n",
       "      <th>label</th>\n",
       "      <th>tweet</th>\n",
       "      <th>tidy_tweet</th>\n",
       "    </tr>\n",
       "  </thead>\n",
       "  <tbody>\n",
       "    <tr>\n",
       "      <th>0</th>\n",
       "      <td>1</td>\n",
       "      <td>0.0</td>\n",
       "      <td>@user when a father is dysfunctional and is so selfish he drags his kids into his dysfunction.   #run</td>\n",
       "      <td>when a father is dysfunctional and is so selfish he drags his kids into his dysfunction    #run</td>\n",
       "    </tr>\n",
       "    <tr>\n",
       "      <th>1</th>\n",
       "      <td>2</td>\n",
       "      <td>0.0</td>\n",
       "      <td>@user @user thanks for #lyft credit i can't use cause they don't offer wheelchair vans in pdx.    #disapointed #getthanked</td>\n",
       "      <td>thanks for #lyft credit i can t use cause they don t offer wheelchair vans in pdx     #disapointed #getthanked</td>\n",
       "    </tr>\n",
       "    <tr>\n",
       "      <th>2</th>\n",
       "      <td>3</td>\n",
       "      <td>0.0</td>\n",
       "      <td>bihday your majesty</td>\n",
       "      <td>bihday your majesty</td>\n",
       "    </tr>\n",
       "    <tr>\n",
       "      <th>3</th>\n",
       "      <td>4</td>\n",
       "      <td>0.0</td>\n",
       "      <td>#model   i love u take with u all the time in urð±!!! ðððð",
       "ð¦ð¦ð¦</td>\n",
       "      <td>#model   i love u take with u all the time in ur</td>\n",
       "    </tr>\n",
       "    <tr>\n",
       "      <th>4</th>\n",
       "      <td>5</td>\n",
       "      <td>0.0</td>\n",
       "      <td>factsguide: society now    #motivation</td>\n",
       "      <td>factsguide  society now    #motivation</td>\n",
       "    </tr>\n",
       "  </tbody>\n",
       "</table>\n",
       "</div>"
      ],
      "text/plain": [
       "   id  label  \\\n",
       "0   1    0.0   \n",
       "1   2    0.0   \n",
       "2   3    0.0   \n",
       "3   4    0.0   \n",
       "4   5    0.0   \n",
       "\n",
       "                                                                                                                        tweet  \\\n",
       "0                       @user when a father is dysfunctional and is so selfish he drags his kids into his dysfunction.   #run   \n",
       "1  @user @user thanks for #lyft credit i can't use cause they don't offer wheelchair vans in pdx.    #disapointed #getthanked   \n",
       "2                                                                                                         bihday your majesty   \n",
       "3                                      #model   i love u take with u all the time in urð±!!! ðððð\n",
       "ð¦ð¦ð¦     \n",
       "4                                                                                      factsguide: society now    #motivation   \n",
       "\n",
       "                                                                                                         tidy_tweet  \n",
       "0                   when a father is dysfunctional and is so selfish he drags his kids into his dysfunction    #run  \n",
       "1    thanks for #lyft credit i can t use cause they don t offer wheelchair vans in pdx     #disapointed #getthanked  \n",
       "2                                                                                               bihday your majesty  \n",
       "3                            #model   i love u take with u all the time in ur                                        \n",
       "4                                                                            factsguide  society now    #motivation  "
      ]
     },
     "execution_count": 10,
     "metadata": {},
     "output_type": "execute_result"
    }
   ],
   "source": [
    "combi['tidy_tweet'] = combi['tidy_tweet'].str.replace('[^a-zA-Z#]',' ')\n",
    "combi.head()"
   ]
  },
  {
   "cell_type": "code",
   "execution_count": 11,
   "metadata": {},
   "outputs": [
    {
     "data": {
      "text/html": [
       "<div>\n",
       "<style scoped>\n",
       "    .dataframe tbody tr th:only-of-type {\n",
       "        vertical-align: middle;\n",
       "    }\n",
       "\n",
       "    .dataframe tbody tr th {\n",
       "        vertical-align: top;\n",
       "    }\n",
       "\n",
       "    .dataframe thead th {\n",
       "        text-align: right;\n",
       "    }\n",
       "</style>\n",
       "<table border=\"1\" class=\"dataframe\">\n",
       "  <thead>\n",
       "    <tr style=\"text-align: right;\">\n",
       "      <th></th>\n",
       "      <th>id</th>\n",
       "      <th>label</th>\n",
       "      <th>tweet</th>\n",
       "      <th>tidy_tweet</th>\n",
       "    </tr>\n",
       "  </thead>\n",
       "  <tbody>\n",
       "    <tr>\n",
       "      <th>0</th>\n",
       "      <td>1</td>\n",
       "      <td>0.0</td>\n",
       "      <td>@user when a father is dysfunctional and is so selfish he drags his kids into his dysfunction.   #run</td>\n",
       "      <td>when father dysfunctional selfish drags kids into dysfunction #run</td>\n",
       "    </tr>\n",
       "    <tr>\n",
       "      <th>1</th>\n",
       "      <td>2</td>\n",
       "      <td>0.0</td>\n",
       "      <td>@user @user thanks for #lyft credit i can't use cause they don't offer wheelchair vans in pdx.    #disapointed #getthanked</td>\n",
       "      <td>thanks #lyft credit cause they offer wheelchair vans #disapointed #getthanked</td>\n",
       "    </tr>\n",
       "    <tr>\n",
       "      <th>2</th>\n",
       "      <td>3</td>\n",
       "      <td>0.0</td>\n",
       "      <td>bihday your majesty</td>\n",
       "      <td>bihday your majesty</td>\n",
       "    </tr>\n",
       "    <tr>\n",
       "      <th>3</th>\n",
       "      <td>4</td>\n",
       "      <td>0.0</td>\n",
       "      <td>#model   i love u take with u all the time in urð±!!! ðððð",
       "ð¦ð¦ð¦</td>\n",
       "      <td>#model love take with time</td>\n",
       "    </tr>\n",
       "    <tr>\n",
       "      <th>4</th>\n",
       "      <td>5</td>\n",
       "      <td>0.0</td>\n",
       "      <td>factsguide: society now    #motivation</td>\n",
       "      <td>factsguide society #motivation</td>\n",
       "    </tr>\n",
       "  </tbody>\n",
       "</table>\n",
       "</div>"
      ],
      "text/plain": [
       "   id  label  \\\n",
       "0   1    0.0   \n",
       "1   2    0.0   \n",
       "2   3    0.0   \n",
       "3   4    0.0   \n",
       "4   5    0.0   \n",
       "\n",
       "                                                                                                                        tweet  \\\n",
       "0                       @user when a father is dysfunctional and is so selfish he drags his kids into his dysfunction.   #run   \n",
       "1  @user @user thanks for #lyft credit i can't use cause they don't offer wheelchair vans in pdx.    #disapointed #getthanked   \n",
       "2                                                                                                         bihday your majesty   \n",
       "3                                      #model   i love u take with u all the time in urð±!!! ðððð\n",
       "ð¦ð¦ð¦     \n",
       "4                                                                                      factsguide: society now    #motivation   \n",
       "\n",
       "                                                                      tidy_tweet  \n",
       "0             when father dysfunctional selfish drags kids into dysfunction #run  \n",
       "1  thanks #lyft credit cause they offer wheelchair vans #disapointed #getthanked  \n",
       "2                                                            bihday your majesty  \n",
       "3                                                     #model love take with time  \n",
       "4                                                 factsguide society #motivation  "
      ]
     },
     "execution_count": 11,
     "metadata": {},
     "output_type": "execute_result"
    }
   ],
   "source": [
    "combi['tidy_tweet'] = combi['tidy_tweet'].apply(lambda x: ' '.join([w for w in x.split() if len(w)>3]))\n",
    "combi.head()"
   ]
  },
  {
   "cell_type": "code",
   "execution_count": 12,
   "metadata": {},
   "outputs": [
    {
     "data": {
      "text/plain": [
       "0                [when, father, dysfunctional, selfish, drags, kids, into, dysfunction, #run]\n",
       "1    [thanks, #lyft, credit, cause, they, offer, wheelchair, vans, #disapointed, #getthanked]\n",
       "2                                                                     [bihday, your, majesty]\n",
       "3                                                            [#model, love, take, with, time]\n",
       "4                                                          [factsguide, society, #motivation]\n",
       "Name: tidy_tweet, dtype: object"
      ]
     },
     "execution_count": 12,
     "metadata": {},
     "output_type": "execute_result"
    }
   ],
   "source": [
    "tokenized_tweet = combi['tidy_tweet'].apply(lambda x:x.split())\n",
    "tokenized_tweet.head()"
   ]
  },
  {
   "cell_type": "code",
   "execution_count": 13,
   "metadata": {},
   "outputs": [
    {
     "data": {
      "text/plain": [
       "0                                                                [when, father, dysfunct, selfish, drag, kid, into, dysfunct, #run]\n",
       "1                                                 [thank, #lyft, credit, caus, they, offer, wheelchair, van, #disapoint, #getthank]\n",
       "2                                                                                                           [bihday, your, majesti]\n",
       "3                                                                                                  [#model, love, take, with, time]\n",
       "4                                                                                                      [factsguid, societi, #motiv]\n",
       "5                                           [huge, fare, talk, befor, they, leav, chao, disput, when, they, there, #allshowandnogo]\n",
       "6                                                                                                           [camp, tomorrow, danni]\n",
       "7        [next, school, year, year, exam, think, about, that, #school, #exam, #hate, #imagin, #actorslif, #revolutionschool, #girl]\n",
       "8                                                               [love, land, #allin, #cav, #champion, #cleveland, #clevelandcavali]\n",
       "9                                                                                                                    [welcom, here]\n",
       "10                                            [#ireland, consum, price, index, climb, from, previou, #blog, #silver, #gold, #forex]\n",
       "11            [selfish, #orlando, #standwithorlando, #pulseshoot, #orlandoshoot, #biggerproblem, #selfish, #heabreak, #valu, #love]\n",
       "12                                                                                                   [daddi, today, day, #gettingf]\n",
       "13                                                                [#cnn, call, #michigan, middl, school, build, wall, chant, #tcot]\n",
       "14                                  [comment, #australia, #opkillingbay, #seashepherd, #helpcovedolphin, #thecov, #helpcovedolphin]\n",
       "15                                                                             [ouch, junior, angri, #got, #junior, #yugyoem, #omg]\n",
       "16                                                                                             [thank, have, paner, #thank, #posit]\n",
       "17                                                                                                                  [retweet, agre]\n",
       "18                                                                              [#friday, smile, around, user, #cooki, make, peopl]\n",
       "19                                                                                               [know, essenti, oil, made, chemic]\n",
       "20                               [#euro, peopl, blame, conced, goal, rooney, gave, away, free, kick, know, bale, them, from, there]\n",
       "21                                                                 [littl, dude, #badday, #coneofsham, #cat, #piss, #funni, #laugh]\n",
       "22                                                                       [product, happi, #wine, tool, #weekend, time, open, drink]\n",
       "23                                                                                                       [lumpi, say, prove, lumpi]\n",
       "24                                                                              [#tgif, #gamedev, #indiedev, #indiegamedev, #squad]\n",
       "25                                                                     [beauti, sign, vendor, #upsideofflorida, #shopalyssa, #love]\n",
       "26                                                [#smile, when, #media, #pressconfer, #antalya, #turkey, sunday, #throwback, love]\n",
       "27                                                                                     [great, panel, mediat, public, servic, #ica]\n",
       "28                                                                                                                  [happi, father]\n",
       "29                [peopl, went, nightclub, have, good, night, action, mean, those, peopl, lost, their, famili, forev, #rip#orlando]\n",
       "                                                                    ...                                                            \n",
       "49129                                                                                         [peopl, anyth, fuck, attent, nowaday]\n",
       "49130                                                     [creativ, bubbl, burst, look, forward, never, have, colleg, tutor, again]\n",
       "49131                                                              [tomorrow, gonna, go, deliv, first, book, abroad, #donat, #book]\n",
       "49132                                                                                          [thank, babi, giggl, #thank, #posit]\n",
       "49133                                                                                              [#model, love, take, with, time]\n",
       "49134                          [life, will, grow, learn, some, pple, will, work, fuck, over, just, life, look, feel, better, there]\n",
       "49135                                                  [storm, were, rain, togeth, destroy, thi, town, becam, name, #myquot, #love]\n",
       "49136                    [lovelgq, broken, #rnb, #love, #heabroken, #hea, #drake, #music, #studio, #worldstar, #billboard, #mixtap]\n",
       "49137                                                        [spread, love, hate, #prayingfororlando, #loveanoth, #tragic, #prayer]\n",
       "49138                                                                                                          [most, racist, ever]\n",
       "49139                                                                                             [thank, children, #thank, #posit]\n",
       "49140                                             [liverpool, #walk, #liverpool, #starbuck, #avidaeboa, #passeio, #chocol, #delici]\n",
       "49141                                            [#bakersfield, rooster, simul, want, climb, vast, expans, mountain, reach, leakag]\n",
       "49142                                        [#instagood, #beauti, #instadaili, #instalik, #instamood, #amaz, #bestoftheday, #cool]\n",
       "49143                                                [hell, yeah, what, great, surpris, your, present, enjoy, thi, pictur, #bihday]\n",
       "49144                                                                                         [when, joke, defens, toward, everyth]\n",
       "49145                                                         [#enjoy, #even, #sun, #bedroom, #cozi, even, #homesweethom, #allwhit]\n",
       "49146                                                         [tonight, from, here, special, earli, play, song, from, upcom, album]\n",
       "49147                                              [today, good, excercis, #imreadi, #sofuckenreadi, #letsgo, #comeon, #letsgetsta]\n",
       "49148                                           [good, night, with, music, #billi, #music, #tea, #mug, #tokiohotelmug, #tokiohotel]\n",
       "49149                                               [love, life, #createyourfutur, #lifestyl, #holiday, hyatt, regenc, long, beach]\n",
       "49150                                  [black, professor, demon, propos, nazi, style, confisc, white, asset, like, germani, #break]\n",
       "49151                                                                         [learn, think, posit, #posit, #instagram, #instagood]\n",
       "49152                                        [love, pretti, happi, fresh, #teenilici, #fixdermateen, #generationz, #pretti, #fresh]\n",
       "49153                                                            [damn, tuff, ruff, muff, techno, citi, ukhx, #web, hardcor, gabba]\n",
       "49154                                [thought, factori, left, right, polaris, #trump, #uselect, #leadership, #polit, #brexit, #blm]\n",
       "49155                                         [feel, like, mermaid, #hairflip, #neverreadi, #formal, #wed, #gown, #dress, #mermaid]\n",
       "49156                 [#hillari, #campaign, today, #ohio, use, word, like, asset, liabil, never, onc, #clinton, thee, word, #radic]\n",
       "49157                                          [happi, work, confer, right, mindset, lead, cultur, develop, organ, #work, #mindset]\n",
       "49158                                                                     [song, glad, free, download, #shoegaz, #newmus, #newsong]\n",
       "Name: tidy_tweet, Length: 49159, dtype: object"
      ]
     },
     "execution_count": 13,
     "metadata": {},
     "output_type": "execute_result"
    }
   ],
   "source": [
    "#Stemmig the words for less number of words without loosing information \n",
    "from nltk.stem.porter import *\n",
    "stemmer = PorterStemmer()\n",
    "tokenized_tweet = tokenized_tweet.apply(lambda x:[stemmer.stem(i) for i in x])\n",
    "tokenized_tweet"
   ]
  },
  {
   "cell_type": "code",
   "execution_count": 14,
   "metadata": {},
   "outputs": [
    {
     "data": {
      "text/html": [
       "<div>\n",
       "<style scoped>\n",
       "    .dataframe tbody tr th:only-of-type {\n",
       "        vertical-align: middle;\n",
       "    }\n",
       "\n",
       "    .dataframe tbody tr th {\n",
       "        vertical-align: top;\n",
       "    }\n",
       "\n",
       "    .dataframe thead th {\n",
       "        text-align: right;\n",
       "    }\n",
       "</style>\n",
       "<table border=\"1\" class=\"dataframe\">\n",
       "  <thead>\n",
       "    <tr style=\"text-align: right;\">\n",
       "      <th></th>\n",
       "      <th>id</th>\n",
       "      <th>label</th>\n",
       "      <th>tweet</th>\n",
       "      <th>tidy_tweet</th>\n",
       "    </tr>\n",
       "  </thead>\n",
       "  <tbody>\n",
       "    <tr>\n",
       "      <th>0</th>\n",
       "      <td>1</td>\n",
       "      <td>0.0</td>\n",
       "      <td>@user when a father is dysfunctional and is so selfish he drags his kids into his dysfunction.   #run</td>\n",
       "      <td>when father dysfunct selfish drag kid into dysfunct #run</td>\n",
       "    </tr>\n",
       "    <tr>\n",
       "      <th>1</th>\n",
       "      <td>2</td>\n",
       "      <td>0.0</td>\n",
       "      <td>@user @user thanks for #lyft credit i can't use cause they don't offer wheelchair vans in pdx.    #disapointed #getthanked</td>\n",
       "      <td>thank #lyft credit caus they offer wheelchair van #disapoint #getthank</td>\n",
       "    </tr>\n",
       "    <tr>\n",
       "      <th>2</th>\n",
       "      <td>3</td>\n",
       "      <td>0.0</td>\n",
       "      <td>bihday your majesty</td>\n",
       "      <td>bihday your majesti</td>\n",
       "    </tr>\n",
       "    <tr>\n",
       "      <th>3</th>\n",
       "      <td>4</td>\n",
       "      <td>0.0</td>\n",
       "      <td>#model   i love u take with u all the time in urð±!!! ðððð",
       "ð¦ð¦ð¦</td>\n",
       "      <td>#model love take with time</td>\n",
       "    </tr>\n",
       "    <tr>\n",
       "      <th>4</th>\n",
       "      <td>5</td>\n",
       "      <td>0.0</td>\n",
       "      <td>factsguide: society now    #motivation</td>\n",
       "      <td>factsguid societi #motiv</td>\n",
       "    </tr>\n",
       "  </tbody>\n",
       "</table>\n",
       "</div>"
      ],
      "text/plain": [
       "   id  label  \\\n",
       "0   1    0.0   \n",
       "1   2    0.0   \n",
       "2   3    0.0   \n",
       "3   4    0.0   \n",
       "4   5    0.0   \n",
       "\n",
       "                                                                                                                        tweet  \\\n",
       "0                       @user when a father is dysfunctional and is so selfish he drags his kids into his dysfunction.   #run   \n",
       "1  @user @user thanks for #lyft credit i can't use cause they don't offer wheelchair vans in pdx.    #disapointed #getthanked   \n",
       "2                                                                                                         bihday your majesty   \n",
       "3                                      #model   i love u take with u all the time in urð±!!! ðððð\n",
       "ð¦ð¦ð¦     \n",
       "4                                                                                      factsguide: society now    #motivation   \n",
       "\n",
       "                                                               tidy_tweet  \n",
       "0                when father dysfunct selfish drag kid into dysfunct #run  \n",
       "1  thank #lyft credit caus they offer wheelchair van #disapoint #getthank  \n",
       "2                                                     bihday your majesti  \n",
       "3                                              #model love take with time  \n",
       "4                                                factsguid societi #motiv  "
      ]
     },
     "execution_count": 14,
     "metadata": {},
     "output_type": "execute_result"
    }
   ],
   "source": [
    "for i in range(len(tokenized_tweet)):\n",
    "    tokenized_tweet[i] = ' '.join(tokenized_tweet[i])    \n",
    "combi['tidy_tweet'] = tokenized_tweet\n",
    "combi.head()"
   ]
  },
  {
   "cell_type": "code",
   "execution_count": 15,
   "metadata": {},
   "outputs": [],
   "source": [
    "all_words = ' '.join([text for text in combi['tidy_tweet']])"
   ]
  },
  {
   "cell_type": "code",
   "execution_count": 16,
   "metadata": {},
   "outputs": [],
   "source": [
    "#Collecting the hashtags as features\n",
    "def hashtag_extract(x):\n",
    "    hashtags=[]\n",
    "    for i in x:\n",
    "        ht = re.findall(r\"#(\\w+)\", i) \n",
    "        hashtags.append(ht) \n",
    "    return hashtags\n",
    "\n",
    "#extracting hashtags from non racist/sexist tweets\n",
    "HT_regular = hashtag_extract(combi['tidy_tweet'][combi['label'] == 0]) \n",
    "\n",
    "#extracting hashtags from racist/sexist tweets\n",
    "HT_negative = hashtag_extract(combi['tidy_tweet'][combi['label'] == 1])"
   ]
  },
  {
   "cell_type": "code",
   "execution_count": 17,
   "metadata": {},
   "outputs": [],
   "source": [
    "#Unnesting the list\n",
    "HT_regular = sum(HT_regular,[])\n",
    "HT_negative = sum(HT_negative,[])"
   ]
  },
  {
   "cell_type": "code",
   "execution_count": 18,
   "metadata": {},
   "outputs": [
    {
     "data": {
      "image/png": "[encoded data removed]",
      "text/plain": [
       "<Figure size 1152x360 with 1 Axes>"
      ]
     },
     "metadata": {
      "needs_background": "light"
     },
     "output_type": "display_data"
    }
   ],
   "source": [
    "#plotting the top hashtags\n",
    "#for positive tweets\n",
    "a = nltk.FreqDist(HT_regular) #returns dictionary with counts of each tweet\n",
    "df = pd.DataFrame({'Hashtag': list(a.keys()),'Count': list(a.values())}) \n",
    "df = df.nlargest(columns=\"Count\", n = 20) #Taking the top 20 hashtags\n",
    "\n",
    "plt.figure(figsize=(16,5)) \n",
    "ax = sns.barplot( x= \"Hashtag\", y = \"Count\", data=df )\n",
    "ax.set(ylabel = 'Count')\n",
    "plt.show()"
   ]
  },
  {
   "cell_type": "code",
   "execution_count": 19,
   "metadata": {},
   "outputs": [
    {
     "data": {
      "image/png": "[encoded data removed]",
      "text/plain": [
       "<Figure size 1152x360 with 1 Axes>"
      ]
     },
     "metadata": {
      "needs_background": "light"
     },
     "output_type": "display_data"
    }
   ],
   "source": [
    "#for negative tweets\n",
    "b = nltk.FreqDist(HT_negative)\n",
    "e = pd.DataFrame({'Hashtag': list(b.keys()), 'Count': list(b.values())}) \n",
    "e = e.nlargest(columns=\"Count\", n = 20) #taking 20 from top\n",
    "plt.figure(figsize=(16,5))\n",
    "sns.barplot(data=e, x= \"Hashtag\", y = \"Count\")\n",
    "plt.show()"
   ]
  },
  {
   "cell_type": "code",
   "execution_count": 20,
   "metadata": {},
   "outputs": [
    {
     "data": {
      "text/plain": [
       "(49159, 1000)"
      ]
     },
     "execution_count": 20,
     "metadata": {},
     "output_type": "execute_result"
    }
   ],
   "source": [
    "# Bag of words \n",
    "from sklearn.feature_extraction.text import TfidfVectorizer , CountVectorizer\n",
    "bow_vectorizer = CountVectorizer(max_df=0.9 ,min_df=2, max_features=1000, stop_words='english')\n",
    "bow = bow_vectorizer.fit_transform(combi['tidy_tweet'])\n",
    "bow.shape"
   ]
  },
  {
   "cell_type": "code",
   "execution_count": 21,
   "metadata": {},
   "outputs": [
    {
     "name": "stderr",
     "output_type": "stream",
     "text": [
      "unable to import 'smart_open.gcs', disabling that module\n"
     ]
    }
   ],
   "source": [
    "# Generating our own word vectors with skip gram model which can have two vectors for one word apple(fruit,company)\n",
    "# Using gensim\n",
    "import gensim"
   ]
  },
  {
   "cell_type": "code",
   "execution_count": 22,
   "metadata": {},
   "outputs": [
    {
     "data": {
      "text/plain": [
       "(6510028, 7536020)"
      ]
     },
     "execution_count": 22,
     "metadata": {},
     "output_type": "execute_result"
    }
   ],
   "source": [
    "tokenized_tweet = combi['tidy_tweet'].apply(lambda x: x.split()) # Tokenizing\n",
    "model_w2v = gensim.models.Word2Vec(tokenized_tweet, size=200, window=5, min_count=2, sg=1, hs=1, negative=10, workers=2, seed=34)\n",
    "model_w2v.train(tokenized_tweet, total_examples= len(combi['tidy_tweet']), epochs=20)"
   ]
  },
  {
   "cell_type": "code",
   "execution_count": 23,
   "metadata": {},
   "outputs": [
    {
     "data": {
      "text/plain": [
       "200"
      ]
     },
     "execution_count": 23,
     "metadata": {},
     "output_type": "execute_result"
    }
   ],
   "source": [
    "# Checking the vector representation\n",
    "model_w2v['food']\n",
    "len(model_w2v['food']) "
   ]
  },
  {
   "cell_type": "code",
   "execution_count": 24,
   "metadata": {},
   "outputs": [
    {
     "data": {
      "text/plain": [
       "[('noodl', 0.4413357973098755),\n",
       " ('#bihdaydinn', 0.43813639879226685),\n",
       " ('cookout', 0.43442249298095703),\n",
       " ('#biall', 0.424666166305542),\n",
       " ('canni', 0.4239192605018616),\n",
       " ('#dnd', 0.41196978092193604),\n",
       " ('spaghetti', 0.41147443652153015),\n",
       " ('dess', 0.4114638566970825),\n",
       " ('#foodcoma', 0.40495574474334717),\n",
       " ('burrito', 0.3999250531196594)]"
      ]
     },
     "execution_count": 24,
     "metadata": {},
     "output_type": "execute_result"
    }
   ],
   "source": [
    "model_w2v.wv.most_similar(positive=\"dinner\") # Checking the performance of model"
   ]
  },
  {
   "cell_type": "code",
   "execution_count": 25,
   "metadata": {},
   "outputs": [
    {
     "data": {
      "text/plain": [
       "[('tomlin', 0.5637615919113159),\n",
       " ('irrefut', 0.5508770942687988),\n",
       " ('embolden', 0.5463330745697021),\n",
       " ('unstabl', 0.5390052795410156),\n",
       " ('businessman', 0.5367609262466431),\n",
       " ('phoni', 0.5319281816482544),\n",
       " ('truism', 0.5285881757736206),\n",
       " ('presumpt', 0.5206557512283325),\n",
       " ('digress', 0.5195267200469971),\n",
       " ('melo', 0.5173928737640381)]"
      ]
     },
     "execution_count": 25,
     "metadata": {},
     "output_type": "execute_result"
    }
   ],
   "source": [
    "model_w2v.wv.most_similar(positive=\"trump\") # Checking the performance of model"
   ]
  },
  {
   "cell_type": "code",
   "execution_count": 29,
   "metadata": {},
   "outputs": [],
   "source": [
    "# Preparing an average vector for tweets using word vectors\n",
    "def word_vector(tokens, size):\n",
    "    vec = np.zeros(size).reshape((1, size))\n",
    "    count = 0.\n",
    "    for word in tokens:\n",
    "        try:\n",
    "            vec += model_w2v[word].reshape((1, size))\n",
    "            count += 1.\n",
    "        except KeyError: # handling the case where the token is not in vocabulary                                     \n",
    "            continue\n",
    "    if count != 0:\n",
    "        vec /= count\n",
    "    return vec"
   ]
  },
  {
   "cell_type": "code",
   "execution_count": 30,
   "metadata": {},
   "outputs": [],
   "source": [
    "wordvec_arrays = np.zeros((len(tokenized_tweet), 200)) \n",
    "\n",
    "for i in range(len(tokenized_tweet)):\n",
    "    wordvec_arrays[i,:] = word_vector(tokenized_tweet[i], 200)\n",
    "    \n",
    "wordvec_df = pd.DataFrame(wordvec_arrays)      "
   ]
  },
  {
   "cell_type": "code",
   "execution_count": 31,
   "metadata": {},
   "outputs": [
    {
     "data": {
      "text/html": [
       "<div>\n",
       "<style scoped>\n",
       "    .dataframe tbody tr th:only-of-type {\n",
       "        vertical-align: middle;\n",
       "    }\n",
       "\n",
       "    .dataframe tbody tr th {\n",
       "        vertical-align: top;\n",
       "    }\n",
       "\n",
       "    .dataframe thead th {\n",
       "        text-align: right;\n",
       "    }\n",
       "</style>\n",
       "<table border=\"1\" class=\"dataframe\">\n",
       "  <thead>\n",
       "    <tr style=\"text-align: right;\">\n",
       "      <th></th>\n",
       "      <th>0</th>\n",
       "      <th>1</th>\n",
       "      <th>2</th>\n",
       "      <th>3</th>\n",
       "      <th>4</th>\n",
       "      <th>5</th>\n",
       "      <th>6</th>\n",
       "      <th>7</th>\n",
       "      <th>8</th>\n",
       "      <th>9</th>\n",
       "      <th>...</th>\n",
       "      <th>190</th>\n",
       "      <th>191</th>\n",
       "      <th>192</th>\n",
       "      <th>193</th>\n",
       "      <th>194</th>\n",
       "      <th>195</th>\n",
       "      <th>196</th>\n",
       "      <th>197</th>\n",
       "      <th>198</th>\n",
       "      <th>199</th>\n",
       "    </tr>\n",
       "  </thead>\n",
       "  <tbody>\n",
       "    <tr>\n",
       "      <th>0</th>\n",
       "      <td>0.327650</td>\n",
       "      <td>-0.008410</td>\n",
       "      <td>0.021151</td>\n",
       "      <td>0.021301</td>\n",
       "      <td>0.208044</td>\n",
       "      <td>-0.424565</td>\n",
       "      <td>-0.121365</td>\n",
       "      <td>0.289521</td>\n",
       "      <td>-0.134418</td>\n",
       "      <td>-0.247145</td>\n",
       "      <td>...</td>\n",
       "      <td>0.070257</td>\n",
       "      <td>-0.116055</td>\n",
       "      <td>-0.041598</td>\n",
       "      <td>0.050048</td>\n",
       "      <td>-0.087609</td>\n",
       "      <td>-0.417228</td>\n",
       "      <td>0.001742</td>\n",
       "      <td>-0.174091</td>\n",
       "      <td>0.307601</td>\n",
       "      <td>0.089505</td>\n",
       "    </tr>\n",
       "    <tr>\n",
       "      <th>1</th>\n",
       "      <td>0.023900</td>\n",
       "      <td>-0.054282</td>\n",
       "      <td>0.192317</td>\n",
       "      <td>0.095959</td>\n",
       "      <td>0.237639</td>\n",
       "      <td>-0.250902</td>\n",
       "      <td>-0.000099</td>\n",
       "      <td>0.475706</td>\n",
       "      <td>-0.056367</td>\n",
       "      <td>-0.096109</td>\n",
       "      <td>...</td>\n",
       "      <td>-0.154650</td>\n",
       "      <td>0.122037</td>\n",
       "      <td>-0.163775</td>\n",
       "      <td>-0.049425</td>\n",
       "      <td>0.000746</td>\n",
       "      <td>0.022952</td>\n",
       "      <td>0.018675</td>\n",
       "      <td>-0.172161</td>\n",
       "      <td>0.149080</td>\n",
       "      <td>-0.126206</td>\n",
       "    </tr>\n",
       "    <tr>\n",
       "      <th>2</th>\n",
       "      <td>-0.243069</td>\n",
       "      <td>0.252879</td>\n",
       "      <td>0.115375</td>\n",
       "      <td>-0.184352</td>\n",
       "      <td>0.086723</td>\n",
       "      <td>0.124968</td>\n",
       "      <td>-0.103176</td>\n",
       "      <td>0.022688</td>\n",
       "      <td>0.272179</td>\n",
       "      <td>-0.010487</td>\n",
       "      <td>...</td>\n",
       "      <td>0.197730</td>\n",
       "      <td>0.191649</td>\n",
       "      <td>0.119856</td>\n",
       "      <td>0.149494</td>\n",
       "      <td>-0.479162</td>\n",
       "      <td>-0.169709</td>\n",
       "      <td>0.082153</td>\n",
       "      <td>-0.519011</td>\n",
       "      <td>0.162353</td>\n",
       "      <td>-0.287708</td>\n",
       "    </tr>\n",
       "    <tr>\n",
       "      <th>3</th>\n",
       "      <td>0.063866</td>\n",
       "      <td>0.034447</td>\n",
       "      <td>0.045284</td>\n",
       "      <td>-0.000630</td>\n",
       "      <td>0.068357</td>\n",
       "      <td>0.099094</td>\n",
       "      <td>0.000397</td>\n",
       "      <td>-0.006460</td>\n",
       "      <td>-0.142320</td>\n",
       "      <td>0.099805</td>\n",
       "      <td>...</td>\n",
       "      <td>-0.006329</td>\n",
       "      <td>-0.023592</td>\n",
       "      <td>-0.016495</td>\n",
       "      <td>-0.086931</td>\n",
       "      <td>-0.004700</td>\n",
       "      <td>-0.356394</td>\n",
       "      <td>0.037267</td>\n",
       "      <td>-0.168796</td>\n",
       "      <td>0.086737</td>\n",
       "      <td>-0.148734</td>\n",
       "    </tr>\n",
       "    <tr>\n",
       "      <th>4</th>\n",
       "      <td>-0.215574</td>\n",
       "      <td>-0.365491</td>\n",
       "      <td>0.641241</td>\n",
       "      <td>-0.253157</td>\n",
       "      <td>-0.186427</td>\n",
       "      <td>-0.136891</td>\n",
       "      <td>0.052901</td>\n",
       "      <td>0.065355</td>\n",
       "      <td>-0.205552</td>\n",
       "      <td>-0.128560</td>\n",
       "      <td>...</td>\n",
       "      <td>-0.662150</td>\n",
       "      <td>0.107475</td>\n",
       "      <td>0.095668</td>\n",
       "      <td>0.270670</td>\n",
       "      <td>-0.289561</td>\n",
       "      <td>-0.648631</td>\n",
       "      <td>0.205944</td>\n",
       "      <td>-0.161141</td>\n",
       "      <td>0.015825</td>\n",
       "      <td>-0.044622</td>\n",
       "    </tr>\n",
       "  </tbody>\n",
       "</table>\n",
       "<p>5 rows × 200 columns</p>\n",
       "</div>"
      ],
      "text/plain": [
       "        0         1         2         3         4         5         6    \\\n",
       "0  0.327650 -0.008410  0.021151  0.021301  0.208044 -0.424565 -0.121365   \n",
       "1  0.023900 -0.054282  0.192317  0.095959  0.237639 -0.250902 -0.000099   \n",
       "2 -0.243069  0.252879  0.115375 -0.184352  0.086723  0.124968 -0.103176   \n",
       "3  0.063866  0.034447  0.045284 -0.000630  0.068357  0.099094  0.000397   \n",
       "4 -0.215574 -0.365491  0.641241 -0.253157 -0.186427 -0.136891  0.052901   \n",
       "\n",
       "        7         8         9    ...       190       191       192       193  \\\n",
       "0  0.289521 -0.134418 -0.247145  ...  0.070257 -0.116055 -0.041598  0.050048   \n",
       "1  0.475706 -0.056367 -0.096109  ... -0.154650  0.122037 -0.163775 -0.049425   \n",
       "2  0.022688  0.272179 -0.010487  ...  0.197730  0.191649  0.119856  0.149494   \n",
       "3 -0.006460 -0.142320  0.099805  ... -0.006329 -0.023592 -0.016495 -0.086931   \n",
       "4  0.065355 -0.205552 -0.128560  ... -0.662150  0.107475  0.095668  0.270670   \n",
       "\n",
       "        194       195       196       197       198       199  \n",
       "0 -0.087609 -0.417228  0.001742 -0.174091  0.307601  0.089505  \n",
       "1  0.000746  0.022952  0.018675 -0.172161  0.149080 -0.126206  \n",
       "2 -0.479162 -0.169709  0.082153 -0.519011  0.162353 -0.287708  \n",
       "3 -0.004700 -0.356394  0.037267 -0.168796  0.086737 -0.148734  \n",
       "4 -0.289561 -0.648631  0.205944 -0.161141  0.015825 -0.044622  \n",
       "\n",
       "[5 rows x 200 columns]"
      ]
     },
     "execution_count": 31,
     "metadata": {},
     "output_type": "execute_result"
    }
   ],
   "source": [
    "wordvec_df.head()"
   ]
  },
  {
   "cell_type": "markdown",
   "metadata": {},
   "source": [
    "**Logistic Regression on Bag of Words**"
   ]
  },
  {
   "cell_type": "code",
   "execution_count": 32,
   "metadata": {},
   "outputs": [],
   "source": [
    "# Logistic regression on bag of words\n",
    "from sklearn.linear_model import LogisticRegression\n",
    "from sklearn.model_selection import train_test_split\n",
    "from sklearn.metrics import f1_score"
   ]
  },
  {
   "cell_type": "code",
   "execution_count": 33,
   "metadata": {},
   "outputs": [
    {
     "name": "stderr",
     "output_type": "stream",
     "text": [
      "/home/rishikesh/anaconda3/lib/python3.7/site-packages/sklearn/linear_model/logistic.py:432: FutureWarning: Default solver will be changed to 'lbfgs' in 0.22. Specify a solver to silence this warning.\n",
      "  FutureWarning)\n"
     ]
    },
    {
     "data": {
      "text/plain": [
       "0.5307820299500832"
      ]
     },
     "execution_count": 33,
     "metadata": {},
     "output_type": "execute_result"
    }
   ],
   "source": [
    "# splitting the data into training and testing set\n",
    "train_bow = bow[:31962,:]\n",
    "test_bow = bow[31962:,:]\n",
    "\n",
    "# splitting data into training and validation set\n",
    "xtrain_bow, xvalid_bow, ytrain, yvalid = train_test_split(train_bow, train['label'],random_state=42,test_size=0.3)\n",
    "\n",
    "lreg = LogisticRegression() \n",
    "lreg.fit(xtrain_bow, ytrain) # training\n",
    "prediction = lreg.predict_proba(xvalid_bow)\n",
    "prediction_int = prediction[:,1] >= 0.3 \n",
    "f1_score(yvalid, prediction_int)"
   ]
  },
  {
   "cell_type": "code",
   "execution_count": 34,
   "metadata": {},
   "outputs": [],
   "source": [
    "# making prediction\n",
    "test_pred = lreg.predict_proba(test_bow)\n",
    "test_pred_int = test_pred[:,1] >= 0.3 \n",
    "test_pred_int = test_pred_int.astype(np.int) # Converting the boolean values into int\n",
    "test['label'] = test_pred_int\n",
    "submission = test[['id','label']]\n",
    "submission.to_csv('sub_lreg_bow.csv', index=False) # Converting data to csv files"
   ]
  },
  {
   "cell_type": "markdown",
   "metadata": {},
   "source": [
    "**Logistic Regression on Word2Vec**"
   ]
  },
  {
   "cell_type": "code",
   "execution_count": 35,
   "metadata": {},
   "outputs": [
    {
     "data": {
      "text/plain": [
       "0.6346863468634687"
      ]
     },
     "execution_count": 35,
     "metadata": {},
     "output_type": "execute_result"
    }
   ],
   "source": [
    "# Splitting the data into training and testing set\n",
    "train_w2v = wordvec_df.iloc[:31962,:]\n",
    "test_w2v = wordvec_df.iloc[31962:,:]\n",
    "\n",
    "# Splitting into train and dev set\n",
    "xtrain_w2v = train_w2v.iloc[ytrain.index,:]\n",
    "xvalid_w2v = train_w2v.iloc[yvalid.index,:]\n",
    "\n",
    "lreg.fit(xtrain_w2v, ytrain) # Fitting the model\n",
    "prediction = lreg.predict_proba(xvalid_w2v)\n",
    "prediction_int = prediction[:,1] >= 0.3 \n",
    "prediction_int = prediction_int.astype(np.int)\n",
    "f1_score(yvalid, prediction_int)"
   ]
  },
  {
   "cell_type": "markdown",
   "metadata": {},
   "source": [
    "**SVM on Word2Vec**"
   ]
  },
  {
   "cell_type": "code",
   "execution_count": 36,
   "metadata": {},
   "outputs": [],
   "source": [
    "from sklearn import svm\n"
   ]
  },
  {
   "cell_type": "code",
   "execution_count": 37,
   "metadata": {},
   "outputs": [
    {
     "data": {
      "text/plain": [
       "0.631496062992126"
      ]
     },
     "execution_count": 37,
     "metadata": {},
     "output_type": "execute_result"
    }
   ],
   "source": [
    "# Takes 2-3 minutes to fit and predict\n",
    "svc = svm.SVC(kernel='linear', C=1, probability=True).fit(xtrain_w2v, ytrain)\n",
    "prediction = svc.predict_proba(xvalid_w2v) \n",
    "prediction_int = prediction[:,1] >= 0.3 \n",
    "prediction_int = prediction_int.astype(np.int) \n",
    "f1_score(yvalid, prediction_int)"
   ]
  },
  {
   "cell_type": "code",
   "execution_count": 38,
   "metadata": {},
   "outputs": [
    {
     "name": "stderr",
     "output_type": "stream",
     "text": [
      "/home/rishikesh/anaconda3/lib/python3.7/site-packages/sklearn/svm/base.py:193: FutureWarning: The default value of gamma will change from 'auto' to 'scale' in version 0.22 to account better for unscaled features. Set gamma explicitly to 'auto' or 'scale' to avoid this warning.\n",
      "  \"avoid this warning.\", FutureWarning)\n"
     ]
    },
    {
     "data": {
      "text/plain": [
       "0.640542577241899"
      ]
     },
     "execution_count": 38,
     "metadata": {},
     "output_type": "execute_result"
    }
   ],
   "source": [
    "svc = svm.SVC(kernel='rbf', C=1, probability=True).fit(xtrain_w2v, ytrain)\n",
    "prediction = svc.predict_proba(xvalid_w2v) \n",
    "prediction_int = prediction[:,1] >= 0.3 \n",
    "prediction_int = prediction_int.astype(np.int) \n",
    "f1_score(yvalid, prediction_int)"
   ]
  },
  {
   "cell_type": "markdown",
   "metadata": {},
   "source": [
    "**Random Forest on Word2Vec**"
   ]
  },
  {
   "cell_type": "code",
   "execution_count": 39,
   "metadata": {},
   "outputs": [],
   "source": [
    "from sklearn.ensemble import RandomForestClassifier"
   ]
  },
  {
   "cell_type": "code",
   "execution_count": 40,
   "metadata": {},
   "outputs": [
    {
     "data": {
      "text/plain": [
       "0.5032397408207343"
      ]
     },
     "execution_count": 40,
     "metadata": {},
     "output_type": "execute_result"
    }
   ],
   "source": [
    "rf = RandomForestClassifier(n_estimators=400, random_state=11).fit(xtrain_w2v, ytrain) \n",
    "prediction = rf.predict(xvalid_w2v) \n",
    "f1_score(yvalid, prediction)"
   ]
  },
  {
   "cell_type": "code",
   "execution_count": 41,
   "metadata": {},
   "outputs": [
    {
     "data": {
      "text/plain": [
       "0.5075268817204301"
      ]
     },
     "execution_count": 41,
     "metadata": {},
     "output_type": "execute_result"
    }
   ],
   "source": [
    "rf = RandomForestClassifier(n_estimators=100, random_state=11).fit(xtrain_w2v, ytrain) \n",
    "prediction = rf.predict(xvalid_w2v) \n",
    "f1_score(yvalid, prediction)"
   ]
  },
  {
   "cell_type": "markdown",
   "metadata": {},
   "source": [
    "**XGBoost on Word2Vec**"
   ]
  },
  {
   "cell_type": "code",
   "execution_count": 42,
   "metadata": {},
   "outputs": [],
   "source": [
    "from xgboost import XGBClassifier"
   ]
  },
  {
   "cell_type": "code",
   "execution_count": 43,
   "metadata": {},
   "outputs": [
    {
     "data": {
      "text/plain": [
       "0.6548358473824313"
      ]
     },
     "execution_count": 43,
     "metadata": {},
     "output_type": "execute_result"
    }
   ],
   "source": [
    "xgb = XGBClassifier(max_depth=6, n_estimators=1000, nthread= 3).fit(xtrain_w2v, ytrain)\n",
    "prediction = xgb.predict(xvalid_w2v)\n",
    "f1_score(yvalid, prediction)"
   ]
  },
  {
   "cell_type": "code",
   "execution_count": 47,
   "metadata": {},
   "outputs": [],
   "source": [
    "# Tuning XGBoost\n",
    "import xgboost as xgb\n",
    "\n",
    "dtrain = xgb.DMatrix(xtrain_w2v,label=ytrain)\n",
    "dvalid = xgb.DMatrix(xvalid_w2v,label=yvalid)\n",
    "dtest = xgb.DMatrix(test_w2v)\n",
    "\n",
    "params={'objective':'binary:logistic','max_depth':6,'min_child_weight':1,'eta':0.3,'subsample':1,'colsample_bytree':1 }\n",
    "\n",
    "# Evaluation metric for f1 score\n",
    "def custom_eval(preds,dtrain):\n",
    "    labels = dtrain.get_label().astype(np.int)\n",
    "    preds = (preds>=0.3).astype(np.int)\n",
    "    return [('f1_score',f1_score(labels,preds))]\n"
   ]
  },
  {
   "cell_type": "code",
   "execution_count": 50,
   "metadata": {},
   "outputs": [
    {
     "name": "stdout",
     "output_type": "stream",
     "text": [
      "CV with max_depth=6, min_child_weight=5\n"
     ]
    },
    {
     "name": "stderr",
     "output_type": "stream",
     "text": [
      "/home/rishikesh/anaconda3/lib/python3.7/site-packages/ipykernel_launcher.py:14: FutureWarning: \n",
      "The current behaviour of 'Series.argmax' is deprecated, use 'idxmax'\n",
      "instead.\n",
      "The behavior of 'argmax' will be corrected to return the positional\n",
      "maximum in the future. For now, use 'series.values.argmax' or\n",
      "'np.argmax(np.array(values))' to get the position of the maximum\n",
      "row.\n",
      "  \n"
     ]
    },
    {
     "name": "stdout",
     "output_type": "stream",
     "text": [
      "\tF1 Score 0.676506 for 65 rounds\n",
      "CV with max_depth=6, min_child_weight=6\n",
      "\tF1 Score 0.6732372 for 58 rounds\n",
      "CV with max_depth=6, min_child_weight=7\n",
      "\tF1 Score 0.686881 for 91 rounds\n",
      "CV with max_depth=7, min_child_weight=5\n",
      "\tF1 Score 0.6758394 for 59 rounds\n",
      "CV with max_depth=7, min_child_weight=6\n",
      "\tF1 Score 0.6703144 for 42 rounds\n",
      "CV with max_depth=7, min_child_weight=7\n",
      "\tF1 Score 0.6808096000000001 for 58 rounds\n",
      "CV with max_depth=8, min_child_weight=5\n",
      "\tF1 Score 0.6853748 for 82 rounds\n",
      "CV with max_depth=8, min_child_weight=6\n",
      "\tF1 Score 0.6811999999999999 for 73 rounds\n",
      "CV with max_depth=8, min_child_weight=7\n",
      "\tF1 Score 0.6852684 for 83 rounds\n",
      "CV with max_depth=9, min_child_weight=5\n",
      "\tF1 Score 0.6862726 for 79 rounds\n",
      "CV with max_depth=9, min_child_weight=6\n",
      "\tF1 Score 0.6801782000000001 for 60 rounds\n",
      "CV with max_depth=9, min_child_weight=7\n",
      "\tF1 Score 0.688869 for 152 rounds\n",
      "Best params: 9, 7, F1 Score: 0.688869\n"
     ]
    }
   ],
   "source": [
    "grid_search_params = [(max_depth,min_child_weight) for max_depth in range(6,10) for min_child_weight in range(5,8)]\n",
    "max_f1=0\n",
    "best_params=None\n",
    "\n",
    "for max_depth,min_child_weight in grid_search_params:\n",
    "    print(\"CV with max_depth={}, min_child_weight={}\".format(max_depth,min_child_weight))\n",
    "    # Updating parameters\n",
    "    params['max_depth'] = max_depth\n",
    "    params['min_child_weight'] = min_child_weight\n",
    "    # Cross Validation\n",
    "    cv_results = xgb.cv(params,dtrain,feval= custom_eval,num_boost_round=200,maximize=True,seed=16,nfold=5,early_stopping_rounds=10)\n",
    "    # Finding best f1 score\n",
    "    mean_f1 = cv_results['test-f1_score-mean'].max()\n",
    "    boost_rounds = cv_results['test-f1_score-mean'].argmax() \n",
    "    print(\"\\tF1 Score {} for {} rounds\".format(mean_f1, boost_rounds))\n",
    "    if mean_f1 > max_f1:\n",
    "        max_f1 = mean_f1\n",
    "        best_params = (max_depth,min_child_weight)\n",
    "        \n",
    "print(\"Best params: {}, {}, F1 Score: {}\".format(best_params[0], best_params[1], max_f1))"
   ]
  },
  {
   "cell_type": "code",
   "execution_count": 52,
   "metadata": {},
   "outputs": [],
   "source": [
    "# Updating parameters\n",
    "params['max_depth'] = 9 \n",
    "params['min_child_weight'] = 7"
   ]
  },
  {
   "cell_type": "code",
   "execution_count": 53,
   "metadata": {},
   "outputs": [
    {
     "name": "stdout",
     "output_type": "stream",
     "text": [
      "CV with subsample=0.5, colsample=0.5\n"
     ]
    },
    {
     "name": "stderr",
     "output_type": "stream",
     "text": [
      "/home/rishikesh/anaconda3/lib/python3.7/site-packages/ipykernel_launcher.py:26: FutureWarning: \n",
      "The current behaviour of 'Series.argmax' is deprecated, use 'idxmax'\n",
      "instead.\n",
      "The behavior of 'argmax' will be corrected to return the positional\n",
      "maximum in the future. For now, use 'series.values.argmax' or\n",
      "'np.argmax(np.array(values))' to get the position of the maximum\n",
      "row.\n"
     ]
    },
    {
     "name": "stdout",
     "output_type": "stream",
     "text": [
      "\tF1 Score 0.6544302000000001 for 38 rounds\n",
      "CV with subsample=0.5, colsample=0.6\n",
      "\tF1 Score 0.6544302000000001 for 38 rounds\n",
      "CV with subsample=0.5, colsample=0.7\n",
      "\tF1 Score 0.6544302000000001 for 38 rounds\n",
      "CV with subsample=0.5, colsample=0.8\n",
      "\tF1 Score 0.6544302000000001 for 38 rounds\n",
      "CV with subsample=0.5, colsample=0.9\n",
      "\tF1 Score 0.6544302000000001 for 38 rounds\n",
      "CV with subsample=0.6, colsample=0.5\n",
      "\tF1 Score 0.6724996 for 47 rounds\n",
      "CV with subsample=0.6, colsample=0.6\n",
      "\tF1 Score 0.6724996 for 47 rounds\n",
      "CV with subsample=0.6, colsample=0.7\n",
      "\tF1 Score 0.6724996 for 47 rounds\n",
      "CV with subsample=0.6, colsample=0.8\n",
      "\tF1 Score 0.6724996 for 47 rounds\n",
      "CV with subsample=0.6, colsample=0.9\n",
      "\tF1 Score 0.6724996 for 47 rounds\n",
      "CV with subsample=0.7, colsample=0.5\n",
      "\tF1 Score 0.681679 for 43 rounds\n",
      "CV with subsample=0.7, colsample=0.6\n",
      "\tF1 Score 0.681679 for 43 rounds\n",
      "CV with subsample=0.7, colsample=0.7\n",
      "\tF1 Score 0.681679 for 43 rounds\n",
      "CV with subsample=0.7, colsample=0.8\n",
      "\tF1 Score 0.681679 for 43 rounds\n",
      "CV with subsample=0.7, colsample=0.9\n",
      "\tF1 Score 0.681679 for 43 rounds\n",
      "CV with subsample=0.8, colsample=0.5\n",
      "\tF1 Score 0.6768896000000001 for 59 rounds\n",
      "CV with subsample=0.8, colsample=0.6\n",
      "\tF1 Score 0.6768896000000001 for 59 rounds\n",
      "CV with subsample=0.8, colsample=0.7\n",
      "\tF1 Score 0.6768896000000001 for 59 rounds\n",
      "CV with subsample=0.8, colsample=0.8\n",
      "\tF1 Score 0.6768896000000001 for 59 rounds\n",
      "CV with subsample=0.8, colsample=0.9\n",
      "\tF1 Score 0.6768896000000001 for 59 rounds\n",
      "CV with subsample=0.9, colsample=0.5\n",
      "\tF1 Score 0.6805464000000001 for 35 rounds\n",
      "CV with subsample=0.9, colsample=0.6\n",
      "\tF1 Score 0.6805464000000001 for 35 rounds\n",
      "CV with subsample=0.9, colsample=0.7\n",
      "\tF1 Score 0.6805464000000001 for 35 rounds\n",
      "CV with subsample=0.9, colsample=0.8\n",
      "\tF1 Score 0.6805464000000001 for 35 rounds\n",
      "CV with subsample=0.9, colsample=0.9\n",
      "\tF1 Score 0.6805464000000001 for 35 rounds\n",
      "Best params: 0.7, 0.5, F1 Score: 0.681679\n"
     ]
    }
   ],
   "source": [
    "# Tuning subsample and colsample\n",
    "gridsearch_params = [\n",
    "    (subsample, colsample)\n",
    "    for subsample in [i/10. for i in range(5,10)]\n",
    "    for colsample in [i/10. for i in range(5,10)] ]\n",
    "max_f1 = 0. \n",
    "best_params = None \n",
    "\n",
    "for subsample, colsample in gridsearch_params:\n",
    "    print(\"CV with subsample={}, colsample={}\".format(subsample,colsample))\n",
    "    # Updating our parameters\n",
    "    params['colsample'] = colsample\n",
    "    params['subsample'] = subsample\n",
    "    cv_results = xgb.cv(\n",
    "        params,\n",
    "        dtrain,\n",
    "        feval= custom_eval,\n",
    "        num_boost_round=200,\n",
    "        maximize=True,\n",
    "        seed=16,\n",
    "        nfold=5,\n",
    "        early_stopping_rounds=10\n",
    "    )\n",
    "    # Finding best F1 Score\n",
    "    mean_f1 = cv_results['test-f1_score-mean'].max()\n",
    "    boost_rounds = cv_results['test-f1_score-mean'].argmax()\n",
    "    print(\"\\tF1 Score {} for {} rounds\".format(mean_f1, boost_rounds))\n",
    "    if mean_f1 > max_f1:\n",
    "        max_f1 = mean_f1\n",
    "        best_params = (subsample, colsample)   \n",
    "print(\"Best params: {}, {}, F1 Score: {}\".format(best_params[0], best_params[1], max_f1))"
   ]
  },
  {
   "cell_type": "code",
   "execution_count": 54,
   "metadata": {},
   "outputs": [],
   "source": [
    "#Updating subsample and colsample_bytree\n",
    "params['subsample'] = .7 \n",
    "params['colsample_bytree'] = .5"
   ]
  },
  {
   "cell_type": "code",
   "execution_count": 55,
   "metadata": {},
   "outputs": [
    {
     "name": "stdout",
     "output_type": "stream",
     "text": [
      "CV with eta=0.3\n"
     ]
    },
    {
     "name": "stderr",
     "output_type": "stream",
     "text": [
      "/home/rishikesh/anaconda3/lib/python3.7/site-packages/ipykernel_launcher.py:23: FutureWarning: \n",
      "The current behaviour of 'Series.argmax' is deprecated, use 'idxmax'\n",
      "instead.\n",
      "The behavior of 'argmax' will be corrected to return the positional\n",
      "maximum in the future. For now, use 'series.values.argmax' or\n",
      "'np.argmax(np.array(values))' to get the position of the maximum\n",
      "row.\n"
     ]
    },
    {
     "name": "stdout",
     "output_type": "stream",
     "text": [
      "\tF1 Score 0.6863872000000001 for 171 rounds\n",
      "CV with eta=0.2\n",
      "\tF1 Score 0.6952554 for 134 rounds\n",
      "CV with eta=0.1\n",
      "\tF1 Score 0.6921106 for 116 rounds\n",
      "CV with eta=0.05\n",
      "\tF1 Score 0.7016034 for 256 rounds\n",
      "CV with eta=0.01\n",
      "\tF1 Score 0.1302024 for 0 rounds\n",
      "CV with eta=0.005\n",
      "\tF1 Score 0.1302024 for 0 rounds\n",
      "Best params: 0.05, F1 Score: 0.7016034\n"
     ]
    }
   ],
   "source": [
    "# tuning the learning rate\n",
    "\n",
    "max_f1 = 0. \n",
    "best_params = None \n",
    "\n",
    "for eta in [.3, .2, .1, .05, .01, .005]:\n",
    "    print(\"CV with eta={}\".format(eta))\n",
    "    # Update ETA\n",
    "    params['eta'] = eta\n",
    "    # Run CV\n",
    "    cv_results = xgb.cv(\n",
    "        params,\n",
    "        dtrain,\n",
    "        feval= custom_eval,\n",
    "        num_boost_round=1000,\n",
    "        maximize=True,\n",
    "        seed=16,\n",
    "        nfold=5,\n",
    "        early_stopping_rounds=20\n",
    "    )\n",
    "    # Finding best F1 Score\n",
    "    mean_f1 = cv_results['test-f1_score-mean'].max()\n",
    "    boost_rounds = cv_results['test-f1_score-mean'].argmax()\n",
    "    print(\"\\tF1 Score {} for {} rounds\".format(mean_f1, boost_rounds))\n",
    "    if mean_f1 > max_f1:\n",
    "        max_f1 = mean_f1\n",
    "        best_params = eta    \n",
    "print(\"Best params: {}, F1 Score: {}\".format(best_params, max_f1))"
   ]
  },
  {
   "cell_type": "code",
   "execution_count": 56,
   "metadata": {},
   "outputs": [],
   "source": [
    "# updating learning rate\n",
    "params['eta'] = .05"
   ]
  },
  {
   "cell_type": "code",
   "execution_count": 57,
   "metadata": {},
   "outputs": [
    {
     "name": "stdout",
     "output_type": "stream",
     "text": [
      "[10:06:26] WARNING: /workspace/src/learner.cc:328: \n",
      "Parameters: { colsample } might not be used.\n",
      "\n",
      "  This may not be accurate due to some parameters are only used in language bindings but\n",
      "  passed down to XGBoost core.  Or some parameters are not used but slip through this\n",
      "  verification. Please open an issue if you find above cases.\n",
      "\n",
      "\n",
      "[0]\tValidation-error:0.06236\tValidation-f1_score:0.13317\n",
      "Multiple eval metrics have been passed: 'Validation-f1_score' will be used for early stopping.\n",
      "\n",
      "Will train until Validation-f1_score hasn't improved in 10 rounds.\n",
      "[1]\tValidation-error:0.05663\tValidation-f1_score:0.13317\n",
      "[2]\tValidation-error:0.05611\tValidation-f1_score:0.13317\n",
      "[3]\tValidation-error:0.05517\tValidation-f1_score:0.13317\n",
      "[4]\tValidation-error:0.05444\tValidation-f1_score:0.13317\n",
      "[5]\tValidation-error:0.05454\tValidation-f1_score:0.13317\n",
      "[6]\tValidation-error:0.05444\tValidation-f1_score:0.13317\n",
      "[7]\tValidation-error:0.05465\tValidation-f1_score:0.13317\n",
      "[8]\tValidation-error:0.05538\tValidation-f1_score:0.13317\n",
      "[9]\tValidation-error:0.05496\tValidation-f1_score:0.13317\n",
      "[10]\tValidation-error:0.05423\tValidation-f1_score:0.26953\n",
      "[11]\tValidation-error:0.05423\tValidation-f1_score:0.36068\n",
      "[12]\tValidation-error:0.05350\tValidation-f1_score:0.42536\n",
      "[13]\tValidation-error:0.05339\tValidation-f1_score:0.47800\n",
      "[14]\tValidation-error:0.05360\tValidation-f1_score:0.51364\n",
      "[15]\tValidation-error:0.05329\tValidation-f1_score:0.53292\n",
      "[16]\tValidation-error:0.05319\tValidation-f1_score:0.54704\n",
      "[17]\tValidation-error:0.05287\tValidation-f1_score:0.56944\n",
      "[18]\tValidation-error:0.05319\tValidation-f1_score:0.58151\n",
      "[19]\tValidation-error:0.05266\tValidation-f1_score:0.59245\n",
      "[20]\tValidation-error:0.05256\tValidation-f1_score:0.59508\n",
      "[21]\tValidation-error:0.05225\tValidation-f1_score:0.60146\n",
      "[22]\tValidation-error:0.05225\tValidation-f1_score:0.60876\n",
      "[23]\tValidation-error:0.05246\tValidation-f1_score:0.61313\n",
      "[24]\tValidation-error:0.05225\tValidation-f1_score:0.60727\n",
      "[25]\tValidation-error:0.05235\tValidation-f1_score:0.61248\n",
      "[26]\tValidation-error:0.05183\tValidation-f1_score:0.60294\n",
      "[27]\tValidation-error:0.05246\tValidation-f1_score:0.61107\n",
      "[28]\tValidation-error:0.05266\tValidation-f1_score:0.61020\n",
      "[29]\tValidation-error:0.05235\tValidation-f1_score:0.60182\n",
      "[30]\tValidation-error:0.05194\tValidation-f1_score:0.60703\n",
      "[31]\tValidation-error:0.05183\tValidation-f1_score:0.60896\n",
      "[32]\tValidation-error:0.05204\tValidation-f1_score:0.60775\n",
      "[33]\tValidation-error:0.05204\tValidation-f1_score:0.60686\n",
      "Stopping. Best iteration:\n",
      "[23]\tValidation-error:0.05246\tValidation-f1_score:0.61313\n",
      "\n"
     ]
    }
   ],
   "source": [
    "# Finally using these tuned parameters for final model\n",
    "xgb_model = xgb.train(\n",
    "    params,\n",
    "    dtrain,\n",
    "    feval= custom_eval,\n",
    "    num_boost_round= 1000,\n",
    "    maximize=True,\n",
    "    evals=[(dvalid, \"Validation\")],\n",
    "    early_stopping_rounds=10\n",
    " )"
   ]
  },
  {
   "cell_type": "code",
   "execution_count": 58,
   "metadata": {},
   "outputs": [],
   "source": [
    "# Preparing submission\n",
    "test_pred = xgb_model.predict(dtest)\n",
    "test['label'] = (test_pred >= 0.3).astype(np.int) \n",
    "submission = test[['id','label']] \n",
    "submission.to_csv('sub_xgb_w2v_finetuned.csv', index=False)"
   ]
  },
  {
   "cell_type": "code",
   "execution_count": null,
   "metadata": {},
   "outputs": [],
   "source": []
  }
 ],
 "metadata": {
  "kernelspec": {
   "display_name": "Python 3",
   "language": "python",
   "name": "python3"
  },
  "language_info": {
   "codemirror_mode": {
    "name": "ipython",
    "version": 3
   },
   "file_extension": ".py",
   "mimetype": "text/x-python",
   "name": "python",
   "nbconvert_exporter": "python",
   "pygments_lexer": "ipython3",
   "version": "3.7.3"
  }
 },
 "nbformat": 4,
 "nbformat_minor": 2
}
